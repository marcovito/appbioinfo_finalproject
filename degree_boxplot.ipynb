{
 "cells": [
  {
   "cell_type": "code",
   "execution_count": 88,
   "id": "07bfb8cd-17de-4982-97a2-15b9c2d13c07",
   "metadata": {},
   "outputs": [],
   "source": [
    "%matplotlib inline\n",
    "\n",
    "import pandas as pd\n",
    "import numpy as np\n",
    "import matplotlib.pyplot as plt\n",
    "import networkx as nx\n",
    "import seaborn as sns"
   ]
  },
  {
   "cell_type": "code",
   "execution_count": 54,
   "id": "fca6f8a0-2655-43e7-a64c-4b77f8c404fe",
   "metadata": {},
   "outputs": [
    {
     "name": "stderr",
     "output_type": "stream",
     "text": [
      "/usr/local/anaconda3/lib/python3.8/site-packages/pandas/core/frame.py:3191: SettingWithCopyWarning: \n",
      "A value is trying to be set on a copy of a slice from a DataFrame.\n",
      "Try using .loc[row_indexer,col_indexer] = value instead\n",
      "\n",
      "See the caveats in the documentation: https://pandas.pydata.org/pandas-docs/stable/user_guide/indexing.html#returning-a-view-versus-a-copy\n",
      "  self[k1] = value[k2]\n"
     ]
    },
    {
     "data": {
      "text/html": [
       "<div>\n",
       "<style scoped>\n",
       "    .dataframe tbody tr th:only-of-type {\n",
       "        vertical-align: middle;\n",
       "    }\n",
       "\n",
       "    .dataframe tbody tr th {\n",
       "        vertical-align: top;\n",
       "    }\n",
       "\n",
       "    .dataframe thead th {\n",
       "        text-align: right;\n",
       "    }\n",
       "</style>\n",
       "<table border=\"1\" class=\"dataframe\">\n",
       "  <thead>\n",
       "    <tr style=\"text-align: right;\">\n",
       "      <th></th>\n",
       "      <th>protein1</th>\n",
       "      <th>protein2</th>\n",
       "      <th>combined_score</th>\n",
       "      <th>ignore1</th>\n",
       "      <th>ignore2</th>\n",
       "    </tr>\n",
       "  </thead>\n",
       "  <tbody>\n",
       "    <tr>\n",
       "      <th>11759413</th>\n",
       "      <td>ENSP00000485678</td>\n",
       "      <td>ENSP00000303482</td>\n",
       "      <td>900</td>\n",
       "      <td>9606</td>\n",
       "      <td>9606</td>\n",
       "    </tr>\n",
       "    <tr>\n",
       "      <th>11759427</th>\n",
       "      <td>ENSP00000485678</td>\n",
       "      <td>ENSP00000312262</td>\n",
       "      <td>600</td>\n",
       "      <td>9606</td>\n",
       "      <td>9606</td>\n",
       "    </tr>\n",
       "    <tr>\n",
       "      <th>11759435</th>\n",
       "      <td>ENSP00000485678</td>\n",
       "      <td>ENSP00000481878</td>\n",
       "      <td>900</td>\n",
       "      <td>9606</td>\n",
       "      <td>9606</td>\n",
       "    </tr>\n",
       "    <tr>\n",
       "      <th>11759445</th>\n",
       "      <td>ENSP00000485678</td>\n",
       "      <td>ENSP00000296142</td>\n",
       "      <td>900</td>\n",
       "      <td>9606</td>\n",
       "      <td>9606</td>\n",
       "    </tr>\n",
       "    <tr>\n",
       "      <th>11759452</th>\n",
       "      <td>ENSP00000485678</td>\n",
       "      <td>ENSP00000367590</td>\n",
       "      <td>900</td>\n",
       "      <td>9606</td>\n",
       "      <td>9606</td>\n",
       "    </tr>\n",
       "  </tbody>\n",
       "</table>\n",
       "</div>"
      ],
      "text/plain": [
       "                 protein1         protein2  combined_score ignore1 ignore2\n",
       "11759413  ENSP00000485678  ENSP00000303482             900    9606    9606\n",
       "11759427  ENSP00000485678  ENSP00000312262             600    9606    9606\n",
       "11759435  ENSP00000485678  ENSP00000481878             900    9606    9606\n",
       "11759445  ENSP00000485678  ENSP00000296142             900    9606    9606\n",
       "11759452  ENSP00000485678  ENSP00000367590             900    9606    9606"
      ]
     },
     "execution_count": 54,
     "metadata": {},
     "output_type": "execute_result"
    }
   ],
   "source": [
    "df = pd.read_csv('mystringdb.txt', sep=' ')\n",
    "mydf = df[(df['combined_score'] >= 500)]\n",
    "mydf[['ignore1', 'protein1']] = mydf['protein1'].str.split('.',expand=True)\n",
    "mydf[['ignore2', 'protein2']] = mydf['protein2'].str.split('.',expand=True)"
   ]
  },
  {
   "cell_type": "code",
   "execution_count": 55,
   "id": "04bb2140-4078-42e3-97d0-e2b4cde9dd23",
   "metadata": {},
   "outputs": [],
   "source": [
    "network = nx.from_pandas_edgelist(mydf, source = 'protein1', target = 'protein2')"
   ]
  },
  {
   "cell_type": "code",
   "execution_count": 57,
   "id": "16b66599-f5c7-4a38-b899-797def4fa7df",
   "metadata": {},
   "outputs": [],
   "source": [
    "highdegree = [n for n,d in network.degree if d > 100]  "
   ]
  },
  {
   "cell_type": "code",
   "execution_count": 58,
   "id": "329785cd-7d11-4b1b-bf1a-3ab705aaef22",
   "metadata": {},
   "outputs": [],
   "source": [
    "lowdegree = [n for n,d in network.degree if d <= 100]"
   ]
  },
  {
   "cell_type": "code",
   "execution_count": 59,
   "id": "43b968b6-a524-4f7a-a265-47a97ca74f97",
   "metadata": {},
   "outputs": [
    {
     "data": {
      "text/html": [
       "<div>\n",
       "<style scoped>\n",
       "    .dataframe tbody tr th:only-of-type {\n",
       "        vertical-align: middle;\n",
       "    }\n",
       "\n",
       "    .dataframe tbody tr th {\n",
       "        vertical-align: top;\n",
       "    }\n",
       "\n",
       "    .dataframe thead th {\n",
       "        text-align: right;\n",
       "    }\n",
       "</style>\n",
       "<table border=\"1\" class=\"dataframe\">\n",
       "  <thead>\n",
       "    <tr style=\"text-align: right;\">\n",
       "      <th></th>\n",
       "      <th>Pfam ID</th>\n",
       "      <th>Protein stable ID</th>\n",
       "    </tr>\n",
       "  </thead>\n",
       "  <tbody>\n",
       "    <tr>\n",
       "      <th>0</th>\n",
       "      <td>PF00146</td>\n",
       "      <td>ENSP00000354687</td>\n",
       "    </tr>\n",
       "    <tr>\n",
       "      <th>1</th>\n",
       "      <td>PF00361</td>\n",
       "      <td>ENSP00000355046</td>\n",
       "    </tr>\n",
       "    <tr>\n",
       "      <th>2</th>\n",
       "      <td>PF06444</td>\n",
       "      <td>ENSP00000355046</td>\n",
       "    </tr>\n",
       "    <tr>\n",
       "      <th>3</th>\n",
       "      <td>PF00115</td>\n",
       "      <td>ENSP00000354499</td>\n",
       "    </tr>\n",
       "    <tr>\n",
       "      <th>4</th>\n",
       "      <td>PF00116</td>\n",
       "      <td>ENSP00000354876</td>\n",
       "    </tr>\n",
       "  </tbody>\n",
       "</table>\n",
       "</div>"
      ],
      "text/plain": [
       "   Pfam ID Protein stable ID\n",
       "0  PF00146   ENSP00000354687\n",
       "1  PF00361   ENSP00000355046\n",
       "2  PF06444   ENSP00000355046\n",
       "3  PF00115   ENSP00000354499\n",
       "4  PF00116   ENSP00000354876"
      ]
     },
     "execution_count": 59,
     "metadata": {},
     "output_type": "execute_result"
    }
   ],
   "source": [
    "db = pd.read_csv('myensembldb.txt', sep='\\t')"
   ]
  },
  {
   "cell_type": "code",
   "execution_count": 60,
   "id": "6fc50089-f6aa-4799-8ae4-5a37c67a4e7e",
   "metadata": {},
   "outputs": [
    {
     "data": {
      "text/html": [
       "<div>\n",
       "<style scoped>\n",
       "    .dataframe tbody tr th:only-of-type {\n",
       "        vertical-align: middle;\n",
       "    }\n",
       "\n",
       "    .dataframe tbody tr th {\n",
       "        vertical-align: top;\n",
       "    }\n",
       "\n",
       "    .dataframe thead th {\n",
       "        text-align: right;\n",
       "    }\n",
       "</style>\n",
       "<table border=\"1\" class=\"dataframe\">\n",
       "  <thead>\n",
       "    <tr style=\"text-align: right;\">\n",
       "      <th></th>\n",
       "      <th>Pfam ID</th>\n",
       "      <th>Protein stable ID</th>\n",
       "    </tr>\n",
       "  </thead>\n",
       "  <tbody>\n",
       "    <tr>\n",
       "      <th>197376</th>\n",
       "      <td>PF04103</td>\n",
       "      <td>ENSP00000493798</td>\n",
       "    </tr>\n",
       "    <tr>\n",
       "      <th>197377</th>\n",
       "      <td>NaN</td>\n",
       "      <td>ENSP00000500653</td>\n",
       "    </tr>\n",
       "    <tr>\n",
       "      <th>197378</th>\n",
       "      <td>NaN</td>\n",
       "      <td>ENSP00000500283</td>\n",
       "    </tr>\n",
       "    <tr>\n",
       "      <th>197379</th>\n",
       "      <td>PF00009</td>\n",
       "      <td>ENSP00000494933</td>\n",
       "    </tr>\n",
       "    <tr>\n",
       "      <th>197380</th>\n",
       "      <td>PF00009</td>\n",
       "      <td>ENSP00000495578</td>\n",
       "    </tr>\n",
       "  </tbody>\n",
       "</table>\n",
       "</div>"
      ],
      "text/plain": [
       "        Pfam ID Protein stable ID\n",
       "197376  PF04103   ENSP00000493798\n",
       "197377      NaN   ENSP00000500653\n",
       "197378      NaN   ENSP00000500283\n",
       "197379  PF00009   ENSP00000494933\n",
       "197380  PF00009   ENSP00000495578"
      ]
     },
     "execution_count": 60,
     "metadata": {},
     "output_type": "execute_result"
    }
   ],
   "source": [
    "db.tail()"
   ]
  },
  {
   "cell_type": "code",
   "execution_count": 61,
   "id": "bdb4ccec-2db7-46f4-bdef-eace0513a445",
   "metadata": {},
   "outputs": [
    {
     "data": {
      "text/html": [
       "<div>\n",
       "<style scoped>\n",
       "    .dataframe tbody tr th:only-of-type {\n",
       "        vertical-align: middle;\n",
       "    }\n",
       "\n",
       "    .dataframe tbody tr th {\n",
       "        vertical-align: top;\n",
       "    }\n",
       "\n",
       "    .dataframe thead th {\n",
       "        text-align: right;\n",
       "    }\n",
       "</style>\n",
       "<table border=\"1\" class=\"dataframe\">\n",
       "  <thead>\n",
       "    <tr style=\"text-align: right;\">\n",
       "      <th></th>\n",
       "      <th>Pfam ID</th>\n",
       "      <th>Protein stable ID</th>\n",
       "    </tr>\n",
       "  </thead>\n",
       "  <tbody>\n",
       "    <tr>\n",
       "      <th>197374</th>\n",
       "      <td>PF17856</td>\n",
       "      <td>ENSP00000494625</td>\n",
       "    </tr>\n",
       "    <tr>\n",
       "      <th>197375</th>\n",
       "      <td>PF04103</td>\n",
       "      <td>ENSP00000495201</td>\n",
       "    </tr>\n",
       "    <tr>\n",
       "      <th>197376</th>\n",
       "      <td>PF04103</td>\n",
       "      <td>ENSP00000493798</td>\n",
       "    </tr>\n",
       "    <tr>\n",
       "      <th>197379</th>\n",
       "      <td>PF00009</td>\n",
       "      <td>ENSP00000494933</td>\n",
       "    </tr>\n",
       "    <tr>\n",
       "      <th>197380</th>\n",
       "      <td>PF00009</td>\n",
       "      <td>ENSP00000495578</td>\n",
       "    </tr>\n",
       "  </tbody>\n",
       "</table>\n",
       "</div>"
      ],
      "text/plain": [
       "        Pfam ID Protein stable ID\n",
       "197374  PF17856   ENSP00000494625\n",
       "197375  PF04103   ENSP00000495201\n",
       "197376  PF04103   ENSP00000493798\n",
       "197379  PF00009   ENSP00000494933\n",
       "197380  PF00009   ENSP00000495578"
      ]
     },
     "execution_count": 61,
     "metadata": {},
     "output_type": "execute_result"
    }
   ],
   "source": [
    "mydb = db.dropna()"
   ]
  },
  {
   "cell_type": "code",
   "execution_count": 81,
   "id": "c3371d02-1d39-4ce9-bf52-948228a35300",
   "metadata": {},
   "outputs": [],
   "source": [
    "hd_df = mydb[mydb['Protein stable ID'].isin(highdegree)]\n",
    "ld_df = mydb[mydb['Protein stable ID'].isin(lowdegree)]"
   ]
  },
  {
   "cell_type": "code",
   "execution_count": 96,
   "id": "5de0bb9b-be16-438c-9f2e-2945d4f857e8",
   "metadata": {},
   "outputs": [
    {
     "name": "stderr",
     "output_type": "stream",
     "text": [
      "<ipython-input-96-c9eb8d8e7286>:1: SettingWithCopyWarning: \n",
      "A value is trying to be set on a copy of a slice from a DataFrame.\n",
      "Try using .loc[row_indexer,col_indexer] = value instead\n",
      "\n",
      "See the caveats in the documentation: https://pandas.pydata.org/pandas-docs/stable/user_guide/indexing.html#returning-a-view-versus-a-copy\n",
      "  hd_df['degree'] = 'high degree'\n",
      "<ipython-input-96-c9eb8d8e7286>:2: SettingWithCopyWarning: \n",
      "A value is trying to be set on a copy of a slice from a DataFrame.\n",
      "Try using .loc[row_indexer,col_indexer] = value instead\n",
      "\n",
      "See the caveats in the documentation: https://pandas.pydata.org/pandas-docs/stable/user_guide/indexing.html#returning-a-view-versus-a-copy\n",
      "  ld_df['degree'] = 'low degree'\n"
     ]
    },
    {
     "data": {
      "text/html": [
       "<div>\n",
       "<style scoped>\n",
       "    .dataframe tbody tr th:only-of-type {\n",
       "        vertical-align: middle;\n",
       "    }\n",
       "\n",
       "    .dataframe tbody tr th {\n",
       "        vertical-align: top;\n",
       "    }\n",
       "\n",
       "    .dataframe thead th {\n",
       "        text-align: right;\n",
       "    }\n",
       "</style>\n",
       "<table border=\"1\" class=\"dataframe\">\n",
       "  <thead>\n",
       "    <tr style=\"text-align: right;\">\n",
       "      <th></th>\n",
       "      <th>Pfam ID</th>\n",
       "      <th>Protein stable ID</th>\n",
       "      <th>degree</th>\n",
       "    </tr>\n",
       "  </thead>\n",
       "  <tbody>\n",
       "    <tr>\n",
       "      <th>1</th>\n",
       "      <td>PF00361</td>\n",
       "      <td>ENSP00000355046</td>\n",
       "      <td>low degree</td>\n",
       "    </tr>\n",
       "    <tr>\n",
       "      <th>2</th>\n",
       "      <td>PF06444</td>\n",
       "      <td>ENSP00000355046</td>\n",
       "      <td>low degree</td>\n",
       "    </tr>\n",
       "    <tr>\n",
       "      <th>6</th>\n",
       "      <td>PF00895</td>\n",
       "      <td>ENSP00000355265</td>\n",
       "      <td>low degree</td>\n",
       "    </tr>\n",
       "    <tr>\n",
       "      <th>8</th>\n",
       "      <td>PF00510</td>\n",
       "      <td>ENSP00000354982</td>\n",
       "      <td>low degree</td>\n",
       "    </tr>\n",
       "    <tr>\n",
       "      <th>10</th>\n",
       "      <td>PF00420</td>\n",
       "      <td>ENSP00000354728</td>\n",
       "      <td>low degree</td>\n",
       "    </tr>\n",
       "  </tbody>\n",
       "</table>\n",
       "</div>"
      ],
      "text/plain": [
       "    Pfam ID Protein stable ID      degree\n",
       "1   PF00361   ENSP00000355046  low degree\n",
       "2   PF06444   ENSP00000355046  low degree\n",
       "6   PF00895   ENSP00000355265  low degree\n",
       "8   PF00510   ENSP00000354982  low degree\n",
       "10  PF00420   ENSP00000354728  low degree"
      ]
     },
     "execution_count": 96,
     "metadata": {},
     "output_type": "execute_result"
    }
   ],
   "source": [
    "hd_df['degree'] = 'high degree'\n",
    "ld_df['degree'] = 'low degree'"
   ]
  },
  {
   "cell_type": "code",
   "execution_count": 100,
   "id": "ad09136f-dd1e-4cd2-af39-18f073502220",
   "metadata": {},
   "outputs": [
    {
     "data": {
      "text/html": [
       "<div>\n",
       "<style scoped>\n",
       "    .dataframe tbody tr th:only-of-type {\n",
       "        vertical-align: middle;\n",
       "    }\n",
       "\n",
       "    .dataframe tbody tr th {\n",
       "        vertical-align: top;\n",
       "    }\n",
       "\n",
       "    .dataframe thead th {\n",
       "        text-align: right;\n",
       "    }\n",
       "</style>\n",
       "<table border=\"1\" class=\"dataframe\">\n",
       "  <thead>\n",
       "    <tr style=\"text-align: right;\">\n",
       "      <th></th>\n",
       "      <th>Pfam ID</th>\n",
       "      <th>Protein stable ID</th>\n",
       "      <th>degree</th>\n",
       "    </tr>\n",
       "  </thead>\n",
       "  <tbody>\n",
       "    <tr>\n",
       "      <th>192111</th>\n",
       "      <td>PF15229</td>\n",
       "      <td>ENSP00000481613</td>\n",
       "      <td>low degree</td>\n",
       "    </tr>\n",
       "    <tr>\n",
       "      <th>192119</th>\n",
       "      <td>PF07686</td>\n",
       "      <td>ENSP00000479119</td>\n",
       "      <td>low degree</td>\n",
       "    </tr>\n",
       "    <tr>\n",
       "      <th>192125</th>\n",
       "      <td>PF07324</td>\n",
       "      <td>ENSP00000482514</td>\n",
       "      <td>low degree</td>\n",
       "    </tr>\n",
       "    <tr>\n",
       "      <th>192174</th>\n",
       "      <td>PF13853</td>\n",
       "      <td>ENSP00000480318</td>\n",
       "      <td>low degree</td>\n",
       "    </tr>\n",
       "    <tr>\n",
       "      <th>195972</th>\n",
       "      <td>PF00076</td>\n",
       "      <td>ENSP00000479365</td>\n",
       "      <td>low degree</td>\n",
       "    </tr>\n",
       "  </tbody>\n",
       "</table>\n",
       "</div>"
      ],
      "text/plain": [
       "        Pfam ID Protein stable ID      degree\n",
       "192111  PF15229   ENSP00000481613  low degree\n",
       "192119  PF07686   ENSP00000479119  low degree\n",
       "192125  PF07324   ENSP00000482514  low degree\n",
       "192174  PF13853   ENSP00000480318  low degree\n",
       "195972  PF00076   ENSP00000479365  low degree"
      ]
     },
     "execution_count": 100,
     "metadata": {},
     "output_type": "execute_result"
    }
   ],
   "source": [
    "final = pd.concat([hd_df,ld_df], axis=0)"
   ]
  },
  {
   "cell_type": "code",
   "execution_count": 168,
   "id": "ffa81934-e761-4731-b3e4-1c3cb9ca456b",
   "metadata": {},
   "outputs": [],
   "source": [
    "plot = final.groupby(['degree', 'Protein stable ID'])['Pfam ID'].count().to_frame(name=\"Pfam ID\").reset_index()"
   ]
  },
  {
   "cell_type": "code",
   "execution_count": 170,
   "id": "8ebcbd23-4d39-4e6b-9ac0-33b9ad025ddb",
   "metadata": {},
   "outputs": [
    {
     "data": {
      "image/png": "[encoded data removed]",
      "text/plain": [
       "<Figure size 432x288 with 1 Axes>"
      ]
     },
     "metadata": {
      "needs_background": "light"
     },
     "output_type": "display_data"
    }
   ],
   "source": [
    "sns.barplot(x=\"degree\", y=\"Pfam ID\", data=plot)\n",
    "plt.savefig('degree_barplot.png', dpi=300, bbox_inches='tight')"
   ]
  },
  {
   "cell_type": "code",
   "execution_count": null,
   "id": "8a1ec2bf-39ad-47fd-9722-b73fde8f3555",
   "metadata": {},
   "outputs": [],
   "source": []
  }
 ],
 "metadata": {
  "kernelspec": {
   "display_name": "Python 3",
   "language": "python",
   "name": "python3"
  },
  "language_info": {
   "codemirror_mode": {
    "name": "ipython",
    "version": 3
   },
   "file_extension": ".py",
   "mimetype": "text/x-python",
   "name": "python",
   "nbconvert_exporter": "python",
   "pygments_lexer": "ipython3",
   "version": "3.8.5"
  }
 },
 "nbformat": 4,
 "nbformat_minor": 5
}
